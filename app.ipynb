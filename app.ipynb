{
 "cells": [
  {
   "cell_type": "code",
   "execution_count": 1,
   "metadata": {},
   "outputs": [],
   "source": [
    "import numpy as np\n",
    "from PIL import Image\n",
    "import json\n",
    "\n",
    "def save_image(array, image_path):\n",
    "    \"\"\"saves numpy array as image\"\"\"\n",
    "    img = Image.fromarray(array)\n",
    "    img.save(image_path)\n",
    "\n",
    "def save_dict_to_json(dict, json_path):\n",
    "    \"\"\"saves dictionary to json\"\"\"\n",
    "    with open(json_path, 'w') as f:\n",
    "        json.dump(dict, f)\n",
    "\n",
    "def  read_dict_from_json(json_path):\n",
    "    \"\"\"reads dictionary from json\"\"\"\n",
    "    with open(json_path, 'r') as f:\n",
    "        return json.load(f)"
   ]
  },
  {
   "cell_type": "code",
   "execution_count": 2,
   "metadata": {},
   "outputs": [
    {
     "name": "stdout",
     "output_type": "stream",
     "text": [
      "pygame 2.1.2 (SDL 2.0.16, Python 3.8.0)\n",
      "Hello from the pygame community. https://www.pygame.org/contribute.html\n"
     ]
    }
   ],
   "source": [
    "import pygame\n",
    "import pygame.camera\n",
    "import requests\n",
    "from PIL import Image\n",
    "import cv2\n",
    "import io\n",
    "\n",
    "SAVEDIR = \"tests/\"\n",
    "url = \"http://10.0.0.21:8080/predictions/effnet\"\n",
    "pygame.init()\n",
    "pygame.camera.init()\n",
    "cam = pygame.camera.Camera(\"/dev/video1\", (640, 480))\n",
    "cam.start()\n",
    "\n",
    "i  = 0\n",
    "results_img = {}\n",
    "results_bytes = {}\n",
    "while i<2:\n",
    "    img = pygame.surfarray.array3d(cam.get_image()).swapaxes(0,1)\n",
    "    image_path = SAVEDIR + \"test_\"+ str(i) +\".png\"\n",
    "    save_image(img, image_path)\n",
    "    img = cv2.cvtColor(img, cv2.COLOR_BGR2RGB)\n",
    "    byt = cv2.imencode('.png', img)[1].tobytes()\n",
    "    norm =Image.open(image_path)\n",
    "    byt_s = Image.open(io.BytesIO(byt))\n",
    "    # if i==1:\n",
    "    #     byt_s.save('byt.png')\n",
    "    #     norm.save('norm.png')\n",
    "    # save_image(img, image_path)\n",
    "    response_img = requests.put(url, data=open(image_path,'rb').read())\n",
    "    results_img[image_path] = response_img.text\n",
    "    response_bytes = requests.put(url, data=byt)\n",
    "    results_bytes[image_path] = response_bytes.text\n",
    "\n",
    "    i += 1"
   ]
  },
  {
   "cell_type": "code",
   "execution_count": null,
   "metadata": {},
   "outputs": [],
   "source": []
  },
  {
   "cell_type": "code",
   "execution_count": 4,
   "metadata": {},
   "outputs": [],
   "source": [
    "import requests\n",
    "import os\n",
    "SAVEDIR = \"/home/lu/MLData/EyeClickApp/tests/\"\n",
    "url = \"http://10.0.0.21:8080/predictions/resnet-18\"\n",
    "\n",
    "images = os.listdir(SAVEDIR)"
   ]
  },
  {
   "cell_type": "code",
   "execution_count": 5,
   "metadata": {},
   "outputs": [],
   "source": [
    "results = {}\n",
    "for img in images:\n",
    "    response = requests.put(url, data=open(SAVEDIR+img,'rb').read())\n",
    "    results[img] = response.text\n",
    "save_dict_to_json(results, \"results_0.json\")"
   ]
  },
  {
   "cell_type": "code",
   "execution_count": 3,
   "metadata": {},
   "outputs": [
    {
     "ename": "FileNotFoundError",
     "evalue": "[Errno 2] No such file or directory: 'results_bytes.json'",
     "output_type": "error",
     "traceback": [
      "\u001b[0;31m---------------------------------------------------------------------------\u001b[0m",
      "\u001b[0;31mFileNotFoundError\u001b[0m                         Traceback (most recent call last)",
      "Cell \u001b[0;32mIn [3], line 1\u001b[0m\n\u001b[0;32m----> 1\u001b[0m load_dict_bytes \u001b[39m=\u001b[39m read_dict_from_json(\u001b[39m\"\u001b[39;49m\u001b[39mresults_bytes.json\u001b[39;49m\u001b[39m\"\u001b[39;49m)\n\u001b[1;32m      2\u001b[0m load_dict_img \u001b[39m=\u001b[39m read_dict_from_json(\u001b[39m\"\u001b[39m\u001b[39mresults_img.json\u001b[39m\u001b[39m\"\u001b[39m)\n",
      "Cell \u001b[0;32mIn [1], line 17\u001b[0m, in \u001b[0;36mread_dict_from_json\u001b[0;34m(json_path)\u001b[0m\n\u001b[1;32m     15\u001b[0m \u001b[39mdef\u001b[39;00m  \u001b[39mread_dict_from_json\u001b[39m(json_path):\n\u001b[1;32m     16\u001b[0m     \u001b[39m\"\"\"reads dictionary from json\"\"\"\u001b[39;00m\n\u001b[0;32m---> 17\u001b[0m     \u001b[39mwith\u001b[39;00m \u001b[39mopen\u001b[39;49m(json_path, \u001b[39m'\u001b[39;49m\u001b[39mr\u001b[39;49m\u001b[39m'\u001b[39;49m) \u001b[39mas\u001b[39;00m f:\n\u001b[1;32m     18\u001b[0m         \u001b[39mreturn\u001b[39;00m json\u001b[39m.\u001b[39mload(f)\n",
      "\u001b[0;31mFileNotFoundError\u001b[0m: [Errno 2] No such file or directory: 'results_bytes.json'"
     ]
    }
   ],
   "source": [
    "load_dict_bytes = read_dict_from_json(\"results_bytes.json\")\n",
    "load_dict_img = read_dict_from_json(\"results_img.json\")"
   ]
  },
  {
   "cell_type": "code",
   "execution_count": 3,
   "metadata": {},
   "outputs": [
    {
     "data": {
      "text/plain": [
       "{'tests/test_0.png': '{\\n  \"data\": [\\n    [\\n      773.1691284179688,\\n      286.46636962890625\\n    ]\\n  ]\\n}',\n",
       " 'tests/test_1.png': '{\\n  \"data\": [\\n    [\\n      740.5875244140625,\\n      320.230712890625\\n    ]\\n  ]\\n}'}"
      ]
     },
     "execution_count": 3,
     "metadata": {},
     "output_type": "execute_result"
    }
   ],
   "source": [
    "results_img"
   ]
  },
  {
   "cell_type": "code",
   "execution_count": 4,
   "metadata": {},
   "outputs": [
    {
     "data": {
      "text/plain": [
       "{'tests/test_0.png': '{\\n  \"data\": [\\n    [\\n      773.1691284179688,\\n      286.46636962890625\\n    ]\\n  ]\\n}',\n",
       " 'tests/test_1.png': '{\\n  \"data\": [\\n    [\\n      740.5875244140625,\\n      320.230712890625\\n    ]\\n  ]\\n}'}"
      ]
     },
     "execution_count": 4,
     "metadata": {},
     "output_type": "execute_result"
    }
   ],
   "source": [
    "results_bytes"
   ]
  },
  {
   "cell_type": "code",
   "execution_count": 7,
   "metadata": {},
   "outputs": [
    {
     "data": {
      "text/plain": [
       "{'/home/lu/MLData/EyeClickApp/tests/test_0.png': '{\\n  \"data\": [\\n    [\\n      -28.180696487426758,\\n      -2.6029388904571533\\n    ]\\n  ]\\n}',\n",
       " '/home/lu/MLData/EyeClickApp/tests/test_1.png': '{\\n  \"data\": [\\n    [\\n      -674.7828979492188,\\n      10.030224800109863\\n    ]\\n  ]\\n}',\n",
       " '/home/lu/MLData/EyeClickApp/tests/test_2.png': '{\\n  \"data\": [\\n    [\\n      -668.9711303710938,\\n      9.92923355102539\\n    ]\\n  ]\\n}',\n",
       " '/home/lu/MLData/EyeClickApp/tests/test_3.png': '{\\n  \"data\": [\\n    [\\n      -333.6692810058594,\\n      3.4837095737457275\\n    ]\\n  ]\\n}',\n",
       " '/home/lu/MLData/EyeClickApp/tests/test_4.png': '{\\n  \"data\": [\\n    [\\n      -434.1017150878906,\\n      5.208815097808838\\n    ]\\n  ]\\n}',\n",
       " '/home/lu/MLData/EyeClickApp/tests/test_5.png': '{\\n  \"data\": [\\n    [\\n      -466.809814453125,\\n      6.191854476928711\\n    ]\\n  ]\\n}',\n",
       " '/home/lu/MLData/EyeClickApp/tests/test_6.png': '{\\n  \"data\": [\\n    [\\n      -621.2175903320312,\\n      9.225486755371094\\n    ]\\n  ]\\n}',\n",
       " '/home/lu/MLData/EyeClickApp/tests/test_7.png': '{\\n  \"data\": [\\n    [\\n      -392.2115783691406,\\n      3.6185781955718994\\n    ]\\n  ]\\n}',\n",
       " '/home/lu/MLData/EyeClickApp/tests/test_8.png': '{\\n  \"data\": [\\n    [\\n      -54.5368766784668,\\n      -4.527605056762695\\n    ]\\n  ]\\n}',\n",
       " '/home/lu/MLData/EyeClickApp/tests/test_9.png': '{\\n  \"data\": [\\n    [\\n      -125.03343200683594,\\n      -2.4827065467834473\\n    ]\\n  ]\\n}',\n",
       " '/home/lu/MLData/EyeClickApp/tests/test_10.png': '{\\n  \"data\": [\\n    [\\n      86.99214935302734,\\n      -8.019371032714844\\n    ]\\n  ]\\n}',\n",
       " '/home/lu/MLData/EyeClickApp/tests/test_11.png': '{\\n  \"data\": [\\n    [\\n      -33.65007019042969,\\n      -4.767688751220703\\n    ]\\n  ]\\n}'}"
      ]
     },
     "execution_count": 7,
     "metadata": {},
     "output_type": "execute_result"
    }
   ],
   "source": [
    "load_dict_img"
   ]
  },
  {
   "cell_type": "code",
   "execution_count": 8,
   "metadata": {},
   "outputs": [
    {
     "data": {
      "text/plain": [
       "{'/home/lu/MLData/EyeClickApp/tests/test_0.png': '{\\n  \"data\": [\\n    [\\n      -28.180696487426758,\\n      -2.6029388904571533\\n    ]\\n  ]\\n}',\n",
       " '/home/lu/MLData/EyeClickApp/tests/test_1.png': '{\\n  \"data\": [\\n    [\\n      -674.7828979492188,\\n      10.030224800109863\\n    ]\\n  ]\\n}',\n",
       " '/home/lu/MLData/EyeClickApp/tests/test_2.png': '{\\n  \"data\": [\\n    [\\n      -668.9711303710938,\\n      9.92923355102539\\n    ]\\n  ]\\n}',\n",
       " '/home/lu/MLData/EyeClickApp/tests/test_3.png': '{\\n  \"data\": [\\n    [\\n      -333.6692810058594,\\n      3.4837095737457275\\n    ]\\n  ]\\n}',\n",
       " '/home/lu/MLData/EyeClickApp/tests/test_4.png': '{\\n  \"data\": [\\n    [\\n      -434.1017150878906,\\n      5.208815097808838\\n    ]\\n  ]\\n}',\n",
       " '/home/lu/MLData/EyeClickApp/tests/test_5.png': '{\\n  \"data\": [\\n    [\\n      -466.809814453125,\\n      6.191854476928711\\n    ]\\n  ]\\n}',\n",
       " '/home/lu/MLData/EyeClickApp/tests/test_6.png': '{\\n  \"data\": [\\n    [\\n      -621.2175903320312,\\n      9.225486755371094\\n    ]\\n  ]\\n}',\n",
       " '/home/lu/MLData/EyeClickApp/tests/test_7.png': '{\\n  \"data\": [\\n    [\\n      -392.2115783691406,\\n      3.6185781955718994\\n    ]\\n  ]\\n}',\n",
       " '/home/lu/MLData/EyeClickApp/tests/test_8.png': '{\\n  \"data\": [\\n    [\\n      -54.5368766784668,\\n      -4.527605056762695\\n    ]\\n  ]\\n}',\n",
       " '/home/lu/MLData/EyeClickApp/tests/test_9.png': '{\\n  \"data\": [\\n    [\\n      -125.03343200683594,\\n      -2.4827065467834473\\n    ]\\n  ]\\n}',\n",
       " '/home/lu/MLData/EyeClickApp/tests/test_10.png': '{\\n  \"data\": [\\n    [\\n      86.99214935302734,\\n      -8.019371032714844\\n    ]\\n  ]\\n}',\n",
       " '/home/lu/MLData/EyeClickApp/tests/test_11.png': '{\\n  \"data\": [\\n    [\\n      -33.65007019042969,\\n      -4.767688751220703\\n    ]\\n  ]\\n}'}"
      ]
     },
     "execution_count": 8,
     "metadata": {},
     "output_type": "execute_result"
    }
   ],
   "source": [
    "load_dict_bytes"
   ]
  }
 ],
 "metadata": {
  "kernelspec": {
   "display_name": "Python 3 (ipykernel)",
   "language": "python",
   "name": "python3"
  },
  "orig_nbformat": 4,
  "vscode": {
   "interpreter": {
    "hash": "febbf5638034367f50872b2169cc1ddd0e4fd2e0f503c75d8c6aa2fc8b0a0ec9"
   }
  }
 },
 "nbformat": 4,
 "nbformat_minor": 2
}
