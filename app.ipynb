{
 "cells": [
  {
   "cell_type": "code",
   "execution_count": 1,
   "metadata": {},
   "outputs": [],
   "source": [
    "import numpy as np\n",
    "from PIL import Image\n",
    "import json\n",
    "\n",
    "def save_image(array, image_path):\n",
    "    \"\"\"saves numpy array as image\"\"\"\n",
    "    img = Image.fromarray(array)\n",
    "    img.save(image_path)\n",
    "\n",
    "def save_dict_to_json(dict, json_path):\n",
    "    \"\"\"saves dictionary to json\"\"\"\n",
    "    with open(json_path, 'w') as f:\n",
    "        json.dump(dict, f)\n",
    "\n",
    "def  read_dict_from_json(json_path):\n",
    "    \"\"\"reads dictionary from json\"\"\"\n",
    "    with open(json_path, 'r') as f:\n",
    "        return json.load(f)"
   ]
  },
  {
   "cell_type": "code",
   "execution_count": 2,
   "metadata": {},
   "outputs": [
    {
     "name": "stdout",
     "output_type": "stream",
     "text": [
      "pygame 2.1.2 (SDL 2.0.16, Python 3.8.0)\n",
      "Hello from the pygame community. https://www.pygame.org/contribute.html\n"
     ]
    },
    {
     "ename": "ImportError",
     "evalue": "You must be root to use this library on linux.",
     "output_type": "error",
     "traceback": [
      "\u001b[0;31m---------------------------------------------------------------------------\u001b[0m",
      "\u001b[0;31mImportError\u001b[0m                               Traceback (most recent call last)",
      "Cell \u001b[0;32mIn [2], line 23\u001b[0m\n\u001b[1;32m     20\u001b[0m results[image_path] \u001b[39m=\u001b[39m response\u001b[39m.\u001b[39mtext\n\u001b[1;32m     22\u001b[0m i \u001b[39m+\u001b[39m\u001b[39m=\u001b[39m \u001b[39m1\u001b[39m\n\u001b[0;32m---> 23\u001b[0m \u001b[39mif\u001b[39;00m keyboard\u001b[39m.\u001b[39;49mis_pressed(\u001b[39m\"\u001b[39;49m\u001b[39mq\u001b[39;49m\u001b[39m\"\u001b[39;49m):\n\u001b[1;32m     24\u001b[0m     save_dict_to_json(results, SAVEDIR \u001b[39m+\u001b[39m \u001b[39m\"\u001b[39m\u001b[39mresults.json\u001b[39m\u001b[39m\"\u001b[39m)\n\u001b[1;32m     25\u001b[0m     \u001b[39mbreak\u001b[39;00m\n",
      "File \u001b[0;32m~/pythonEnvs/gaze38/lib/python3.8/site-packages/keyboard/__init__.py:410\u001b[0m, in \u001b[0;36mis_pressed\u001b[0;34m(hotkey)\u001b[0m\n\u001b[1;32m    402\u001b[0m \u001b[39mdef\u001b[39;00m \u001b[39mis_pressed\u001b[39m(hotkey):\n\u001b[1;32m    403\u001b[0m     \u001b[39m\"\"\"\u001b[39;00m\n\u001b[1;32m    404\u001b[0m \u001b[39m    Returns True if the key is pressed.\u001b[39;00m\n\u001b[1;32m    405\u001b[0m \n\u001b[0;32m   (...)\u001b[0m\n\u001b[1;32m    408\u001b[0m \u001b[39m        is_pressed('ctrl+space') #-> True\u001b[39;00m\n\u001b[1;32m    409\u001b[0m \u001b[39m    \"\"\"\u001b[39;00m\n\u001b[0;32m--> 410\u001b[0m     _listener\u001b[39m.\u001b[39;49mstart_if_necessary()\n\u001b[1;32m    412\u001b[0m     \u001b[39mif\u001b[39;00m _is_number(hotkey):\n\u001b[1;32m    413\u001b[0m         \u001b[39m# Shortcut.\u001b[39;00m\n\u001b[1;32m    414\u001b[0m         \u001b[39mwith\u001b[39;00m _pressed_events_lock:\n",
      "File \u001b[0;32m~/pythonEnvs/gaze38/lib/python3.8/site-packages/keyboard/_generic.py:35\u001b[0m, in \u001b[0;36mGenericListener.start_if_necessary\u001b[0;34m(self)\u001b[0m\n\u001b[1;32m     33\u001b[0m \u001b[39mtry\u001b[39;00m:\n\u001b[1;32m     34\u001b[0m     \u001b[39mif\u001b[39;00m \u001b[39mnot\u001b[39;00m \u001b[39mself\u001b[39m\u001b[39m.\u001b[39mlistening:\n\u001b[0;32m---> 35\u001b[0m         \u001b[39mself\u001b[39;49m\u001b[39m.\u001b[39;49minit()\n\u001b[1;32m     37\u001b[0m         \u001b[39mself\u001b[39m\u001b[39m.\u001b[39mlistening \u001b[39m=\u001b[39m \u001b[39mTrue\u001b[39;00m\n\u001b[1;32m     38\u001b[0m         \u001b[39mself\u001b[39m\u001b[39m.\u001b[39mlistening_thread \u001b[39m=\u001b[39m Thread(target\u001b[39m=\u001b[39m\u001b[39mself\u001b[39m\u001b[39m.\u001b[39mlisten)\n",
      "File \u001b[0;32m~/pythonEnvs/gaze38/lib/python3.8/site-packages/keyboard/__init__.py:196\u001b[0m, in \u001b[0;36m_KeyboardListener.init\u001b[0;34m(self)\u001b[0m\n\u001b[1;32m    195\u001b[0m \u001b[39mdef\u001b[39;00m \u001b[39minit\u001b[39m(\u001b[39mself\u001b[39m):\n\u001b[0;32m--> 196\u001b[0m     _os_keyboard\u001b[39m.\u001b[39;49minit()\n\u001b[1;32m    198\u001b[0m     \u001b[39mself\u001b[39m\u001b[39m.\u001b[39mactive_modifiers \u001b[39m=\u001b[39m \u001b[39mset\u001b[39m()\n\u001b[1;32m    199\u001b[0m     \u001b[39mself\u001b[39m\u001b[39m.\u001b[39mblocking_hooks \u001b[39m=\u001b[39m []\n",
      "File \u001b[0;32m~/pythonEnvs/gaze38/lib/python3.8/site-packages/keyboard/_nixkeyboard.py:113\u001b[0m, in \u001b[0;36minit\u001b[0;34m()\u001b[0m\n\u001b[1;32m    112\u001b[0m \u001b[39mdef\u001b[39;00m \u001b[39minit\u001b[39m():\n\u001b[0;32m--> 113\u001b[0m     build_device()\n\u001b[1;32m    114\u001b[0m     build_tables()\n",
      "File \u001b[0;32m~/pythonEnvs/gaze38/lib/python3.8/site-packages/keyboard/_nixkeyboard.py:109\u001b[0m, in \u001b[0;36mbuild_device\u001b[0;34m()\u001b[0m\n\u001b[1;32m    107\u001b[0m \u001b[39mglobal\u001b[39;00m device\n\u001b[1;32m    108\u001b[0m \u001b[39mif\u001b[39;00m device: \u001b[39mreturn\u001b[39;00m\n\u001b[0;32m--> 109\u001b[0m ensure_root()\n\u001b[1;32m    110\u001b[0m device \u001b[39m=\u001b[39m aggregate_devices(\u001b[39m'\u001b[39m\u001b[39mkbd\u001b[39m\u001b[39m'\u001b[39m)\n",
      "File \u001b[0;32m~/pythonEnvs/gaze38/lib/python3.8/site-packages/keyboard/_nixcommon.py:174\u001b[0m, in \u001b[0;36mensure_root\u001b[0;34m()\u001b[0m\n\u001b[1;32m    172\u001b[0m \u001b[39mdef\u001b[39;00m \u001b[39mensure_root\u001b[39m():\n\u001b[1;32m    173\u001b[0m     \u001b[39mif\u001b[39;00m os\u001b[39m.\u001b[39mgeteuid() \u001b[39m!=\u001b[39m \u001b[39m0\u001b[39m:\n\u001b[0;32m--> 174\u001b[0m         \u001b[39mraise\u001b[39;00m \u001b[39mImportError\u001b[39;00m(\u001b[39m'\u001b[39m\u001b[39mYou must be root to use this library on linux.\u001b[39m\u001b[39m'\u001b[39m)\n",
      "\u001b[0;31mImportError\u001b[0m: You must be root to use this library on linux."
     ]
    }
   ],
   "source": [
    "import pygame\n",
    "import pygame.camera\n",
    "import requests\n",
    "import keyboard\n",
    "\n",
    "SAVEDIR = \"/home/lu/MLData/EyeClickApp/tests/\"\n",
    "url = \"http://10.0.0.21:8080/predictions/resnet-18\"\n",
    "pygame.init()\n",
    "pygame.camera.init()\n",
    "cam = pygame.camera.Camera(\"/dev/video1\", (640, 480))\n",
    "cam.start()\n",
    "\n",
    "i  = 0\n",
    "results = {}\n",
    "while True:\n",
    "    img = pygame.surfarray.array3d(cam.get_image()).swapaxes(0,1)\n",
    "    image_path = SAVEDIR + \"test_\"+ str(i) +\".png\"\n",
    "    save_image(img, image_path)\n",
    "    response = requests.put(url, data=open(image_path,'rb').read())\n",
    "    results[image_path] = response.text\n",
    "\n",
    "    i += 1\n",
    "    if keyboard.is_pressed(\"q\"):\n",
    "        save_dict_to_json(results, SAVEDIR + \"results.json\")\n",
    "        break"
   ]
  }
 ],
 "metadata": {
  "kernelspec": {
   "display_name": "gaze38",
   "language": "python",
   "name": "python3"
  },
  "language_info": {
   "codemirror_mode": {
    "name": "ipython",
    "version": 3
   },
   "file_extension": ".py",
   "mimetype": "text/x-python",
   "name": "python",
   "nbconvert_exporter": "python",
   "pygments_lexer": "ipython3",
   "version": "3.8.0"
  },
  "orig_nbformat": 4,
  "vscode": {
   "interpreter": {
    "hash": "febbf5638034367f50872b2169cc1ddd0e4fd2e0f503c75d8c6aa2fc8b0a0ec9"
   }
  }
 },
 "nbformat": 4,
 "nbformat_minor": 2
}
